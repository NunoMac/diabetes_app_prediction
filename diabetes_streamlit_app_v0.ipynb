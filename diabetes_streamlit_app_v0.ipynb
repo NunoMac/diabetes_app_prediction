{
 "cells": [
  {
   "cell_type": "code",
   "execution_count": 16,
   "id": "c8f50743",
   "metadata": {},
   "outputs": [],
   "source": [
    "import streamlit as st\n",
    "import pandas as pd\n",
    "#from PIL import image\n"
   ]
  },
  {
   "cell_type": "markdown",
   "id": "05d70086",
   "metadata": {},
   "source": [
    "df = pd.read_csv('diabetes_data_upload.csv')"
   ]
  },
  {
   "cell_type": "markdown",
   "id": "9868b7bf",
   "metadata": {},
   "source": [
    "df.head()"
   ]
  },
  {
   "cell_type": "markdown",
   "id": "cc587c97",
   "metadata": {},
   "source": [
    "df.replace({'Yes': 1, 'No': 0, 'Male': 0, 'Female': 1, 'Positive': 1, 'Negative': 0}, inplace=True)\n",
    "df.head()"
   ]
  },
  {
   "cell_type": "markdown",
   "id": "5f74717e",
   "metadata": {},
   "source": [
    "# Get unique values for each column\n",
    "unique_values = {}\n",
    "for column in df.columns:\n",
    "    unique_values[column] = df[column].unique()\n",
    "\n",
    "# Display unique values for each column\n",
    "for column, values in unique_values.items():\n",
    "    print(f'Unique values in {column}: {values}')\n"
   ]
  },
  {
   "cell_type": "markdown",
   "id": "3b999274",
   "metadata": {},
   "source": [
    "df.info()"
   ]
  },
  {
   "cell_type": "code",
   "execution_count": 23,
   "id": "21b096d5",
   "metadata": {},
   "outputs": [],
   "source": [
    "st.title('Dummy Diabetes Streamit')\n",
    "st.subheader('O seu resultado')\n",
    "\n",
    "st.sidebar.title(\"Os seus dados\")\n",
    "\n",
    "# Create input boxes for each feature\n",
    "age = st.sidebar.slider(\"Idade\", min_value=0, max_value=120, value=30)\n",
    "gender = st.sidebar.radio(\"Gênero de nascença\", ('Masculino', 'Feminino'))\n",
    "polyuria = st.sidebar.checkbox(\"Poliúria\")\n",
    "polydipsia = st.sidebar.checkbox(\"Polidipsia\")\n",
    "# Add input boxes for other features here...\n",
    "\n",
    "# Create a button to trigger prediction\n",
    "if st.sidebar.button(\"Predição\"):\n",
    "    # Now you can use the user inputs (age, gender, etc.) in your ML model\n",
    "    # For example, you can create a new DataFrame with these inputs and use your model for prediction\n",
    "    \n",
    "    \n",
    "#     user_inputs = pd.DataFrame({\n",
    "#         'Age': [age],\n",
    "#         'Gender': [0 if gender == 'Male' else 1],\n",
    "#         'Polyuria': [1 if polyuria else 0],\n",
    "#         'Polydipsia': [1 if polydipsia else 0],\n",
    "#         # Add other features here...\n",
    "#     })\n",
    "\n",
    "   \n",
    "    \n",
    "    # Display the prediction to the user\n",
    "\n",
    "    st.write(\"Um Dia teremos aqui a predição\")\n"
   ]
  }
 ],
 "metadata": {
  "kernelspec": {
   "display_name": "Python 3 (ipykernel)",
   "language": "python",
   "name": "python3"
  },
  "language_info": {
   "codemirror_mode": {
    "name": "ipython",
    "version": 3
   },
   "file_extension": ".py",
   "mimetype": "text/x-python",
   "name": "python",
   "nbconvert_exporter": "python",
   "pygments_lexer": "ipython3",
   "version": "3.9.13"
  }
 },
 "nbformat": 4,
 "nbformat_minor": 5
}
